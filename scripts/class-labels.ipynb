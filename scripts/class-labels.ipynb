{
 "cells": [
  {
   "cell_type": "code",
   "execution_count": 7,
   "metadata": {},
   "outputs": [],
   "source": [
    "f = open('words.txt')\n",
    "class_number_to_name_mapping = dict()"
   ]
  },
  {
   "cell_type": "code",
   "execution_count": 8,
   "metadata": {},
   "outputs": [],
   "source": [
    "for line in f:\n",
    "    class_number_to_name_mapping[line.split('\t')[0]] = line.split('\t')[1].split('\\n')[0]"
   ]
  },
  {
   "cell_type": "code",
   "execution_count": 10,
   "metadata": {},
   "outputs": [],
   "source": [
    "mini_imagenet_map = dict()\n",
    "f = open('wnids.txt')\n",
    "for line in f:\n",
    "    mini_imagenet_map[line.split('\\n')[0]] = class_number_to_name_mapping[line.split('\\n')[0]]"
   ]
  },
  {
   "cell_type": "code",
   "execution_count": 12,
   "metadata": {},
   "outputs": [],
   "source": [
    "mini_imagenet_map_filtered = dict()\n",
    "for key in mini_imagenet_map.keys():\n",
    "    mini_imagenet_map_filtered[key] = mini_imagenet_map[key].split(',')[0]"
   ]
  },
  {
   "cell_type": "code",
   "execution_count": 23,
   "metadata": {},
   "outputs": [],
   "source": [
    "generate_command = \"python scripts/txt2img.py --prompt \\\"{}\\\" --plms --H 256 --W 256 --f 4 --outdir \\\"/outputs/{}/images/\\\"\\n\""
   ]
  },
  {
   "cell_type": "code",
   "execution_count": 24,
   "metadata": {},
   "outputs": [
    {
     "name": "stdout",
     "output_type": "stream",
     "text": [
      "python scripts/txt2img.py --prompt \"{}\" --plms --H 256 --W 256 --f 4 --outdir \"/outputs/{}/images/\"\n",
      "\n"
     ]
    }
   ],
   "source": [
    "print(generate_command)"
   ]
  },
  {
   "cell_type": "code",
   "execution_count": 25,
   "metadata": {},
   "outputs": [],
   "source": [
    "outfile = open(\"generated_cmd.txt\",\"w\")"
   ]
  },
  {
   "cell_type": "code",
   "execution_count": 26,
   "metadata": {},
   "outputs": [],
   "source": [
    "for key in mini_imagenet_map_filtered.keys():\n",
    "    outfile.write(generate_command.format(mini_imagenet_map_filtered[key],key))"
   ]
  },
  {
   "cell_type": "code",
   "execution_count": null,
   "metadata": {},
   "outputs": [],
   "source": []
  }
 ],
 "metadata": {
  "kernelspec": {
   "display_name": "Python 3.9.15 64-bit",
   "language": "python",
   "name": "python3"
  },
  "language_info": {
   "codemirror_mode": {
    "name": "ipython",
    "version": 3
   },
   "file_extension": ".py",
   "mimetype": "text/x-python",
   "name": "python",
   "nbconvert_exporter": "python",
   "pygments_lexer": "ipython3",
   "version": "3.9.15"
  },
  "orig_nbformat": 4,
  "vscode": {
   "interpreter": {
    "hash": "397704579725e15f5c7cb49fe5f0341eb7531c82d19f2c29d197e8b64ab5776b"
   }
  }
 },
 "nbformat": 4,
 "nbformat_minor": 2
}
